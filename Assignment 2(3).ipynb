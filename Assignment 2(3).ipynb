{
 "cells": [
  {
   "cell_type": "code",
   "execution_count": 1,
   "metadata": {},
   "outputs": [
    {
     "name": "stdout",
     "output_type": "stream",
     "text": [
      "acadgildacadgildacadgildacadgildacadgild\n"
     ]
    }
   ],
   "source": [
    "echo_name = lambda name1, echo_int: name1 * echo_int\n",
    "result = echo_name(\"acadgild\",5)\n",
    "print(result)"
   ]
  },
  {
   "cell_type": "code",
   "execution_count": 2,
   "metadata": {},
   "outputs": [
    {
     "name": "stdout",
     "output_type": "stream",
     "text": [
      "[120.56, 79.7, 117.14, 118.03999999999999]\n"
     ]
    }
   ],
   "source": [
    "celsius = [49.2, 26.5, 47.3, 47.8]\n",
    "fahrenheit = list (map(lambda x: (x * 9/5)+32 ,celsius))\n",
    "print (fahrenheit)"
   ]
  },
  {
   "cell_type": "code",
   "execution_count": 3,
   "metadata": {},
   "outputs": [
    {
     "name": "stdout",
     "output_type": "stream",
     "text": [
      "['e', 'o', 'e', 'o', 'A', 'a', 'i']\n"
     ]
    }
   ],
   "source": [
    "sample_string = \"Welcome to AcadGild\"\n",
    "vowels = \"aeiouAEIOU\"\n",
    "finalVowel = []\n",
    "isVowel = lambda arg: arg in vowels\n",
    "def vowelFilter(sample_string):\n",
    "    for letter in sample_string:\n",
    "        if isVowel(letter):\n",
    "            finalVowel.append(letter)\n",
    "    return finalVowel\n",
    "print(vowelFilter(sample_string))"
   ]
  },
  {
   "cell_type": "code",
   "execution_count": 63,
   "metadata": {},
   "outputs": [
    {
     "name": "stdout",
     "output_type": "stream",
     "text": [
      "WelcometoacadGild\n"
     ]
    }
   ],
   "source": [
    "string=\"123@Welc34ometo12@ac#adGild\"\n",
    "def letters(string):\n",
    "    valids = []\n",
    "    for letters in string:\n",
    "        if letters.isalpha():\n",
    "            valids.append(letters)\n",
    "    return ''.join(valids)\n",
    "print(letters(string))"
   ]
  },
  {
   "cell_type": "code",
   "execution_count": 94,
   "metadata": {},
   "outputs": [
    {
     "name": "stdout",
     "output_type": "stream",
     "text": [
      "[]\n"
     ]
    }
   ],
   "source": [
    "word= [\"February\",\"January\",\"March\",\"April\",\"May\",\"June\",\"July\"]\n",
    "def longestWord(arg_word):\n",
    "    max_len = []\n",
    "    for item in word:\n",
    "        max_len.append(len(item))\n",
    "        return [x for x in arg_word if len(x) == max_len]\n",
    "print(longestWord(word))"
   ]
  },
  {
   "cell_type": "code",
   "execution_count": null,
   "metadata": {},
   "outputs": [],
   "source": []
  }
 ],
 "metadata": {
  "kernelspec": {
   "display_name": "Python 3",
   "language": "python",
   "name": "python3"
  },
  "language_info": {
   "codemirror_mode": {
    "name": "ipython",
    "version": 3
   },
   "file_extension": ".py",
   "mimetype": "text/x-python",
   "name": "python",
   "nbconvert_exporter": "python",
   "pygments_lexer": "ipython3",
   "version": "3.7.0"
  }
 },
 "nbformat": 4,
 "nbformat_minor": 2
}
