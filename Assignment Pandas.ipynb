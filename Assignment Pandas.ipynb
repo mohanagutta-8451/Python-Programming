{
 "cells": [
  {
   "cell_type": "code",
   "execution_count": 23,
   "metadata": {},
   "outputs": [
    {
     "name": "stdout",
     "output_type": "stream",
     "text": [
      "   X\n",
      "0  7\n",
      "1  2\n",
      "2  0\n",
      "3  3\n",
      "4  4\n",
      "5  2\n",
      "6  5\n",
      "7  0\n",
      "8  3\n",
      "9  4\n",
      "0    1.0\n",
      "1    2.0\n",
      "2    0.0\n",
      "3    1.0\n",
      "4    2.0\n",
      "5    3.0\n",
      "6    4.0\n",
      "7    0.0\n",
      "8    1.0\n",
      "9    2.0\n",
      "Name: Y, dtype: float64\n"
     ]
    }
   ],
   "source": [
    "import numpy as np\n",
    "import pandas as pd\n",
    "df=pd.DataFrame({'X':[7, 2, 0, 3, 4, 2, 5, 0, 3, 4]})\n",
    "Y=[1, 2, 0, 1, 2, 3, 4, 0, 1, 2]\n",
    "print(df)\n",
    "x=(df['X'] != 0).cumsum()\n",
    "y= x != x.shift()\n",
    "df['Y'] = y.groupby((y != y.shift()).cumsum()).cumsum()\n",
    "print(df['Y'])"
   ]
  },
  {
   "cell_type": "code",
   "execution_count": 24,
   "metadata": {},
   "outputs": [
    {
     "name": "stdout",
     "output_type": "stream",
     "text": [
      "2015-01-01    0.842298\n",
      "2015-01-02    0.210291\n",
      "2015-01-05    0.041874\n",
      "2015-01-06    0.154632\n",
      "2015-01-07    0.793448\n",
      "2015-01-08    0.107370\n",
      "2015-01-09    0.992457\n",
      "2015-01-12    0.107491\n",
      "2015-01-13    0.893000\n",
      "2015-01-14    0.988176\n",
      "2015-01-15    0.417779\n",
      "2015-01-16    0.675793\n",
      "2015-01-19    0.814642\n",
      "2015-01-20    0.185396\n",
      "2015-01-21    0.040581\n",
      "2015-01-22    0.639669\n",
      "2015-01-23    0.263682\n",
      "2015-01-26    0.992125\n",
      "2015-01-27    0.827693\n",
      "2015-01-28    0.278480\n",
      "2015-01-29    0.655354\n",
      "2015-01-30    0.361318\n",
      "2015-02-02    0.116161\n",
      "2015-02-03    0.340410\n",
      "2015-02-04    0.388402\n",
      "2015-02-05    0.050898\n",
      "2015-02-06    0.542158\n",
      "2015-02-09    0.687523\n",
      "2015-02-10    0.319457\n",
      "2015-02-11    0.578223\n",
      "                ...   \n",
      "2015-11-20    0.385291\n",
      "2015-11-23    0.799509\n",
      "2015-11-24    0.976281\n",
      "2015-11-25    0.345868\n",
      "2015-11-26    0.689437\n",
      "2015-11-27    0.786647\n",
      "2015-11-30    0.017003\n",
      "2015-12-01    0.367528\n",
      "2015-12-02    0.897043\n",
      "2015-12-03    0.252221\n",
      "2015-12-04    0.089623\n",
      "2015-12-07    0.817391\n",
      "2015-12-08    0.506224\n",
      "2015-12-09    0.410384\n",
      "2015-12-10    0.693920\n",
      "2015-12-11    0.431032\n",
      "2015-12-14    0.365019\n",
      "2015-12-15    0.861423\n",
      "2015-12-16    0.047258\n",
      "2015-12-17    0.652377\n",
      "2015-12-18    0.025500\n",
      "2015-12-21    0.919317\n",
      "2015-12-22    0.340861\n",
      "2015-12-23    0.073881\n",
      "2015-12-24    0.990406\n",
      "2015-12-25    0.216041\n",
      "2015-12-28    0.290680\n",
      "2015-12-29    0.367052\n",
      "2015-12-30    0.282236\n",
      "2015-12-31    0.285859\n",
      "Freq: B, Length: 261, dtype: float64\n"
     ]
    }
   ],
   "source": [
    "import numpy as np\n",
    "import pandas as pd\n",
    "date_time=pd.date_range(start='2015-01-01', end='2015-12-31', freq='B')\n",
    "s=pd.Series(np.random.rand(len(date_time)),index=date_time)\n",
    "print(s)"
   ]
  },
  {
   "cell_type": "code",
   "execution_count": 19,
   "metadata": {},
   "outputs": [
    {
     "data": {
      "text/plain": [
       "26.636095369303447"
      ]
     },
     "execution_count": 19,
     "metadata": {},
     "output_type": "execute_result"
    }
   ],
   "source": [
    "s[s.index.weekday==2].sum()"
   ]
  },
  {
   "cell_type": "code",
   "execution_count": 20,
   "metadata": {},
   "outputs": [
    {
     "data": {
      "text/plain": [
       "2015-01-31    0.435106\n",
       "2015-02-28    0.456534\n",
       "2015-03-31    0.549682\n",
       "2015-04-30    0.407230\n",
       "2015-05-31    0.499524\n",
       "2015-06-30    0.482259\n",
       "2015-07-31    0.525959\n",
       "2015-08-31    0.564796\n",
       "2015-09-30    0.483276\n",
       "2015-10-31    0.450423\n",
       "2015-11-30    0.483930\n",
       "2015-12-31    0.509758\n",
       "Freq: M, dtype: float64"
      ]
     },
     "execution_count": 20,
     "metadata": {},
     "output_type": "execute_result"
    }
   ],
   "source": [
    "s.resample('M').mean()"
   ]
  },
  {
   "cell_type": "code",
   "execution_count": 22,
   "metadata": {},
   "outputs": [
    {
     "data": {
      "text/plain": [
       "2015-01-31   2015-01-14\n",
       "2015-05-31   2015-03-30\n",
       "2015-09-30   2015-08-28\n",
       "2016-01-31   2015-10-01\n",
       "dtype: datetime64[ns]"
      ]
     },
     "execution_count": 22,
     "metadata": {},
     "output_type": "execute_result"
    }
   ],
   "source": [
    "s.groupby(pd.Grouper(freq='4M')).idxmax()"
   ]
  },
  {
   "cell_type": "code",
   "execution_count": null,
   "metadata": {},
   "outputs": [],
   "source": []
  }
 ],
 "metadata": {
  "kernelspec": {
   "display_name": "Python 3",
   "language": "python",
   "name": "python3"
  },
  "language_info": {
   "codemirror_mode": {
    "name": "ipython",
    "version": 3
   },
   "file_extension": ".py",
   "mimetype": "text/x-python",
   "name": "python",
   "nbconvert_exporter": "python",
   "pygments_lexer": "ipython3",
   "version": "3.7.0"
  }
 },
 "nbformat": 4,
 "nbformat_minor": 2
}
